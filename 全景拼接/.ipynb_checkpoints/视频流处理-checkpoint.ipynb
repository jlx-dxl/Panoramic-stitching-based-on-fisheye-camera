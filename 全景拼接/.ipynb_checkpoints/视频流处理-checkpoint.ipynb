{
 "cells": [
  {
   "cell_type": "markdown",
   "id": "dcc1bc75",
   "metadata": {},
   "source": [
    "# 一些视频流的处理方法"
   ]
  },
  {
   "cell_type": "code",
   "execution_count": 25,
   "id": "b58b3b8e",
   "metadata": {},
   "outputs": [],
   "source": [
    "import cv2\n",
    "import numpy as np\n",
    "import os\n",
    "import glob"
   ]
  },
  {
   "cell_type": "code",
   "execution_count": 13,
   "id": "67b83219",
   "metadata": {},
   "outputs": [],
   "source": [
    "s1 = cv2.VideoCapture(1)\n",
    "s2 = cv2.VideoCapture(2)\n",
    "s3 = cv2.VideoCapture(3)"
   ]
  },
  {
   "cell_type": "code",
   "execution_count": 3,
   "id": "8b3c52cb",
   "metadata": {},
   "outputs": [],
   "source": [
    "while 1:\n",
    "    ret1, frame1 = s1.read()\n",
    "    cv2.imshow(\"capture1\", frame1)\n",
    "    if cv2.waitKey(10) & 0xff == ord('q'):\n",
    "        break\n",
    "s1.release()\n",
    "cv2.destroyAllWindows()\n",
    "\n",
    "while 1:\n",
    "    ret2, frame2 = s2.read()\n",
    "    cv2.imshow(\"capture2\", frame2)\n",
    "    if cv2.waitKey(10) & 0xff == ord('q'):\n",
    "        break\n",
    "s2.release()\n",
    "cv2.destroyAllWindows()\n",
    "\n",
    "while 1:\n",
    "    ret3, frame3 = s3.read()\n",
    "    cv2.imshow(\"capture3\", frame3)\n",
    "    if cv2.waitKey(10) & 0xff == ord('q'):\n",
    "        break\n",
    "s3.release()\n",
    "cv2.destroyAllWindows()"
   ]
  },
  {
   "cell_type": "markdown",
   "id": "0b600ad6",
   "metadata": {},
   "source": [
    "## 一个窗口下多视频"
   ]
  },
  {
   "cell_type": "code",
   "execution_count": null,
   "id": "f12f4228",
   "metadata": {},
   "outputs": [
    {
     "name": "stdout",
     "output_type": "stream",
     "text": [
      "111\n",
      "111\n"
     ]
    }
   ],
   "source": [
    "width = (int(s1.get(cv2.CAP_PROP_FRAME_WIDTH)))\n",
    "height = (int(s1.get(cv2.CAP_PROP_FRAME_HEIGHT)))\n",
    " \n",
    "while (s1.isOpened()):\n",
    "    ret1, frame1 =s1.read()\n",
    "    ret2, frame2 =s2.read()\n",
    "    ret3, frame3 =s3.read()\n",
    " \n",
    "    frame1 = cv2.resize(frame1, (int(width), int(height)), interpolation=cv2.INTER_CUBIC)\n",
    "    frame2 = cv2.resize(frame1, (int(width), int(height)), interpolation=cv2.INTER_CUBIC)\n",
    "    frame3 = cv2.resize(frame1, (int(width), int(height)), interpolation=cv2.INTER_CUBIC)\n",
    " \n",
    "    frame = np.hstack((frame1, frame2))\n",
    " \n",
    "    cv2.imshow('frame', frame)\n",
    "    print('111')\n",
    "    if cv2.waitKey(10) & 0xff == ord('q'):\n",
    "        break\n",
    "        \n",
    "s1.release()\n",
    "s2.release()\n",
    "s3.release()"
   ]
  },
  {
   "cell_type": "code",
   "execution_count": 6,
   "id": "82b2e68c",
   "metadata": {},
   "outputs": [
    {
     "name": "stdout",
     "output_type": "stream",
     "text": [
      "(480, 640, 3)\n",
      "921600\n",
      "uint8\n"
     ]
    }
   ],
   "source": [
    "success,frame=s1.read()\n",
    "print(frame.shape)\n",
    "print(frame.size)\n",
    "print(frame.dtype)"
   ]
  },
  {
   "cell_type": "code",
   "execution_count": 7,
   "id": "90b96140",
   "metadata": {},
   "outputs": [
    {
     "name": "stdout",
     "output_type": "stream",
     "text": [
      "(480, 480, 3)\n"
     ]
    }
   ],
   "source": [
    "frame=frame[0:480,80:560]\n",
    "print(frame.shape)"
   ]
  },
  {
   "cell_type": "code",
   "execution_count": 8,
   "id": "b66486a6",
   "metadata": {},
   "outputs": [
    {
     "ename": "AttributeError",
     "evalue": "'NoneType' object has no attribute 'shape'",
     "output_type": "error",
     "traceback": [
      "\u001b[1;31m---------------------------------------------------------------------------\u001b[0m",
      "\u001b[1;31mAttributeError\u001b[0m                            Traceback (most recent call last)",
      "\u001b[1;32mC:\\Users\\ADMINI~1\\AppData\\Local\\Temp/ipykernel_19240/1704495426.py\u001b[0m in \u001b[0;36m<module>\u001b[1;34m\u001b[0m\n\u001b[0;32m      1\u001b[0m \u001b[0msuccess\u001b[0m\u001b[1;33m,\u001b[0m\u001b[0mframe\u001b[0m\u001b[1;33m=\u001b[0m\u001b[0ms2\u001b[0m\u001b[1;33m.\u001b[0m\u001b[0mread\u001b[0m\u001b[1;33m(\u001b[0m\u001b[1;33m)\u001b[0m\u001b[1;33m\u001b[0m\u001b[1;33m\u001b[0m\u001b[0m\n\u001b[1;32m----> 2\u001b[1;33m \u001b[0mprint\u001b[0m\u001b[1;33m(\u001b[0m\u001b[0mframe\u001b[0m\u001b[1;33m.\u001b[0m\u001b[0mshape\u001b[0m\u001b[1;33m)\u001b[0m\u001b[1;33m\u001b[0m\u001b[1;33m\u001b[0m\u001b[0m\n\u001b[0m\u001b[0;32m      3\u001b[0m \u001b[0mprint\u001b[0m\u001b[1;33m(\u001b[0m\u001b[0mframe\u001b[0m\u001b[1;33m.\u001b[0m\u001b[0msize\u001b[0m\u001b[1;33m)\u001b[0m\u001b[1;33m\u001b[0m\u001b[1;33m\u001b[0m\u001b[0m\n\u001b[0;32m      4\u001b[0m \u001b[0mprint\u001b[0m\u001b[1;33m(\u001b[0m\u001b[0mframe\u001b[0m\u001b[1;33m.\u001b[0m\u001b[0mdtype\u001b[0m\u001b[1;33m)\u001b[0m\u001b[1;33m\u001b[0m\u001b[1;33m\u001b[0m\u001b[0m\n",
      "\u001b[1;31mAttributeError\u001b[0m: 'NoneType' object has no attribute 'shape'"
     ]
    }
   ],
   "source": [
    "success,frame=s2.read()\n",
    "print(frame.shape)\n",
    "print(frame.size)\n",
    "print(frame.dtype)"
   ]
  },
  {
   "cell_type": "code",
   "execution_count": null,
   "id": "b30bf8e1",
   "metadata": {},
   "outputs": [],
   "source": [
    "frame=frame[0:480,80:560]\n",
    "print(frame.shape)"
   ]
  },
  {
   "cell_type": "code",
   "execution_count": 13,
   "id": "9793ed08",
   "metadata": {},
   "outputs": [],
   "source": [
    "def cv_show(name,img):\n",
    "    cv2.imshow(name,img) \n",
    "    cv2.waitKey(0) \n",
    "    cv2.destroyAllWindows()"
   ]
  },
  {
   "cell_type": "code",
   "execution_count": 14,
   "id": "5d5068ef",
   "metadata": {},
   "outputs": [],
   "source": [
    "cv_show('frame',frame)"
   ]
  },
  {
   "cell_type": "markdown",
   "id": "7b0181b2",
   "metadata": {},
   "source": [
    "## 定时截图"
   ]
  },
  {
   "cell_type": "code",
   "execution_count": 14,
   "id": "ae31bd91",
   "metadata": {},
   "outputs": [],
   "source": [
    "def dingshijietu(camera,saveLocation):\n",
    "    index = 0\n",
    "    imgname = 0\n",
    "\n",
    "    if not os.path.exists(saveLocation):\n",
    "        os.makedirs(saveLocation)\n",
    "\n",
    "    while True:\n",
    "        index = index +1\n",
    "        ret, frame = camera.read()\n",
    "        frame=frame[0:480,80:560]\n",
    "        cv2.imshow(\"capture2\", frame)\n",
    "        if index == 20:   # 50ms加一次\n",
    "            imgname = imgname + 1\n",
    "            fname = str(imgname) + '.jpg'  # fname为图像名字，将imgname作为编号命名保存的截图\n",
    "            cv2.imwrite(saveLocation+\"1_\"+fname, frame) # 截图 前面为放在桌面的路径 img为此时的图像\n",
    "            print(fname + ' saved')   # 打印保存成功\n",
    "            index = 0   # 清零\n",
    "        if imgname >= 50: # 最多截图15张\n",
    "                break\n",
    "        # 延时50ms实际相当于获取20帧的图像\n",
    "        if cv2.waitKey(50) & 0xff == ord('q'):\n",
    "            break\n",
    "\n",
    "    # 释放资源\n",
    "    camera.release()\n",
    "    cv2.destroyAllWindows()"
   ]
  },
  {
   "cell_type": "code",
   "execution_count": 17,
   "id": "0b34eb27",
   "metadata": {},
   "outputs": [
    {
     "name": "stdout",
     "output_type": "stream",
     "text": [
      "1.jpg saved\n",
      "2.jpg saved\n",
      "3.jpg saved\n",
      "4.jpg saved\n",
      "5.jpg saved\n",
      "6.jpg saved\n",
      "7.jpg saved\n",
      "8.jpg saved\n",
      "9.jpg saved\n",
      "10.jpg saved\n",
      "11.jpg saved\n",
      "12.jpg saved\n",
      "13.jpg saved\n",
      "14.jpg saved\n",
      "15.jpg saved\n",
      "16.jpg saved\n",
      "17.jpg saved\n",
      "18.jpg saved\n",
      "19.jpg saved\n",
      "20.jpg saved\n",
      "21.jpg saved\n",
      "22.jpg saved\n",
      "23.jpg saved\n",
      "24.jpg saved\n",
      "25.jpg saved\n",
      "26.jpg saved\n",
      "27.jpg saved\n",
      "28.jpg saved\n",
      "29.jpg saved\n",
      "30.jpg saved\n",
      "31.jpg saved\n",
      "32.jpg saved\n",
      "33.jpg saved\n",
      "34.jpg saved\n",
      "35.jpg saved\n",
      "36.jpg saved\n",
      "37.jpg saved\n",
      "38.jpg saved\n",
      "39.jpg saved\n",
      "40.jpg saved\n",
      "41.jpg saved\n",
      "42.jpg saved\n",
      "43.jpg saved\n",
      "44.jpg saved\n",
      "45.jpg saved\n",
      "46.jpg saved\n",
      "47.jpg saved\n",
      "48.jpg saved\n",
      "49.jpg saved\n",
      "50.jpg saved\n"
     ]
    }
   ],
   "source": [
    "saveLocation=r'D:/imageStitching/1206/camera3/'\n",
    "\n",
    "dingshijietu(s3,saveLocation)"
   ]
  },
  {
   "cell_type": "markdown",
   "id": "ebc3d565",
   "metadata": {},
   "source": [
    "## glob rewrite测试"
   ]
  },
  {
   "cell_type": "code",
   "execution_count": 37,
   "id": "8345bf1b",
   "metadata": {},
   "outputs": [],
   "source": [
    "saveLocation=r'D:/imageStitching/1207/camera1/'\n",
    "Images=sorted(glob.glob(r\"D:/imageStitching/1207/camera1/*.jpg\"),key=os.path.getmtime)\n",
    "imgname = 0\n",
    "for fname in Images:\n",
    "    imgname = imgname + 1\n",
    "    img = cv2.imread(fname)\n",
    "    file_name = os.path.basename(fname)\n",
    "    cv2.imwrite(saveLocation+file_name+\"_rewrited\"+'.jpg', img)"
   ]
  },
  {
   "cell_type": "markdown",
   "id": "50048150",
   "metadata": {},
   "source": [
    "## 批量重命名"
   ]
  },
  {
   "cell_type": "code",
   "execution_count": 39,
   "id": "9f9628aa",
   "metadata": {},
   "outputs": [],
   "source": [
    "path =r'D:/imageStitching/1206/camera3/'\n",
    "num= 1\n",
    "for file in os.listdir(path):\n",
    "    os.rename(os.path.join(path,file),os.path.join(path,\"3_\"+str(num)+\".jpg\"))\n",
    "    num+=1"
   ]
  },
  {
   "cell_type": "code",
   "execution_count": null,
   "id": "5ffd46f7",
   "metadata": {},
   "outputs": [],
   "source": []
  }
 ],
 "metadata": {
  "kernelspec": {
   "display_name": "Python 3 (ipykernel)",
   "language": "python",
   "name": "python3"
  },
  "language_info": {
   "codemirror_mode": {
    "name": "ipython",
    "version": 3
   },
   "file_extension": ".py",
   "mimetype": "text/x-python",
   "name": "python",
   "nbconvert_exporter": "python",
   "pygments_lexer": "ipython3",
   "version": "3.9.7"
  }
 },
 "nbformat": 4,
 "nbformat_minor": 5
}
