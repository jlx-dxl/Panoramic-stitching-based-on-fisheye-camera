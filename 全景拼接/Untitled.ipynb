{
 "cells": [
  {
   "cell_type": "markdown",
   "id": "5070f3c4",
   "metadata": {},
   "source": [
    "# 标定"
   ]
  },
  {
   "cell_type": "code",
   "execution_count": 56,
   "id": "55ea8421",
   "metadata": {},
   "outputs": [],
   "source": [
    "import numpy as np\n",
    "import cv2 as cv\n",
    "import glob\n",
    "import os\n",
    "from Stitcher import Stitcher\n",
    "import numpy as np"
   ]
  },
  {
   "cell_type": "code",
   "execution_count": 26,
   "id": "a804f03a",
   "metadata": {},
   "outputs": [],
   "source": [
    "objpoints = [] # 3d point in real world space\n",
    "imgpoints = [] # 2d points in image plane.\n",
    "\n",
    "# termination criteria\n",
    "criteria = (cv.TERM_CRITERIA_EPS + cv.TERM_CRITERIA_MAX_ITER, 30, 0.001)\n",
    "# prepare object points\n",
    "objp = np.zeros((8*11,3), np.float32)\n",
    "objp[:,:2] = np.mgrid[0:11,0:8].T.reshape(-1,2)"
   ]
  },
  {
   "cell_type": "markdown",
   "id": "4ecf8ef9",
   "metadata": {},
   "source": [
    "## 摄像头标定函数"
   ]
  },
  {
   "cell_type": "code",
   "execution_count": 27,
   "id": "c621561e",
   "metadata": {},
   "outputs": [],
   "source": [
    "toBeCalibratedImages_1 = glob.glob(r\"D:/imageStitching/1206/camera1/*.jpg\")\n",
    "saveLocation_1 = r\"D:/imageStitching/1206/camera1_calibrated/\"\n",
    "dstLocation_1 = r\"D:/imageStitching/1206/camera1_undistorted/\"\n",
    "\n",
    "toBeCalibratedImages_2 = glob.glob(r\"D:/imageStitching/1206/camera2/*.jpg\")\n",
    "saveLocation_2 = r\"D:/imageStitching/1206/camera2_calibrated/\"\n",
    "dstLocation_2 = r\"D:/imageStitching/1206/camera2_undistorted/\""
   ]
  },
  {
   "cell_type": "code",
   "execution_count": 28,
   "id": "f314aa90",
   "metadata": {},
   "outputs": [],
   "source": [
    "def calibration(toBeCalibratedImages,saveLocation,dstLocation):\n",
    "    objpoints = [] # 3d point in real world space\n",
    "    imgpoints = [] # 2d points in image plane.\n",
    "\n",
    "# termination criteria\n",
    "criteria = (cv.TERM_CRITERIA_EPS + cv.TERM_CRITERIA_MAX_ITER, 30, 0.001)\n",
    "# prepare object points\n",
    "objp = np.zeros((8*11,3), np.float32)\n",
    "objp[:,:2] = np.mgrid[0:11,0:8].T.reshape(-1,2)\n",
    "    if not os.path.exists(saveLocation):\n",
    "        os.makedirs(saveLocation)\n",
    "    if not os.path.exists(dstLocation):\n",
    "        os.makedirs(dstLocation)\n",
    "    \n",
    "    \n",
    "    i=0\n",
    "    for fname in toBeCalibratedImages:\n",
    "        i=i+1\n",
    "        img = cv.imread(fname)\n",
    "        # print(fname.index)\n",
    "        gray = cv.cvtColor(img, cv.COLOR_BGR2GRAY)\n",
    "        # Find the chess board corners\n",
    "        ret, corners = cv.findChessboardCorners(gray, (11,8), None)\n",
    "        # If found, add object points, image points (after refining them)\n",
    "        if ret == True:\n",
    "            objpoints.append(objp)\n",
    "            corners2 = cv.cornerSubPix(gray,corners, (11,11), (-1,-1), criteria)\n",
    "            imgpoints.append(corners)\n",
    "            # Draw and display the corners\n",
    "            cv.drawChessboardCorners(img, (11,8), corners2, ret)\n",
    "            cv.imshow('img', img)\n",
    "            cv.imwrite(saveLocation + str(i) + '.jpg' , img)\n",
    "            cv.waitKey(500)\n",
    "        ret1, mtx, dist, rvecs, tvecs = cv.calibrateCamera(objpoints, imgpoints, gray.shape[::-1], None, None)\n",
    "        h, w = img.shape[:2]\n",
    "        newcameramtx, roi = cv.getOptimalNewCameraMatrix(mtx, dist, (w, h), 1, (w, h))\n",
    "\n",
    "        # undistort 1\n",
    "        dst = cv.undistort(img, mtx, dist, None, newcameramtx)\n",
    "        # crop the image\n",
    "        x, y, w, h = roi\n",
    "        dst = dst[y:y + h, x:x + w]\n",
    "        cv.imshow('dst', dst)\n",
    "        cv.imwrite(dstLocation + '1_' + str(i) + '.jpg', dst)\n",
    "        cv.waitKey(500)\n",
    "\n",
    "        # # undistort 2\n",
    "        # mapx, mapy = cv.initUndistortRectifyMap(mtx, dist, None, newcameramtx, (w, h), 5)\n",
    "        # dst = cv.remap(img, mapx, mapy, cv.INTER_LINEAR)\n",
    "        # # crop the image\n",
    "        # x, y, w, h = roi\n",
    "        # dst = dst[y:y + h, x:x + w]\n",
    "        # cv.imshow('dst', dst)\n",
    "        # cv.imwrite(dstLocation + '2_' + str(i) + '.jpg', dst)\n",
    "        # cv.waitKey(500)\n",
    "\n",
    "    cv.destroyAllWindows()\n",
    "    return (ret1, mtx, dist, rvecs, tvecs)"
   ]
  },
  {
   "cell_type": "markdown",
   "id": "96060489",
   "metadata": {},
   "source": [
    "## 帧去畸变函数"
   ]
  },
  {
   "cell_type": "code",
   "execution_count": 29,
   "id": "b32e04bc",
   "metadata": {},
   "outputs": [],
   "source": [
    "def undistort (img , mtx , dist):\n",
    "    h, w = img.shape[:2]\n",
    "    newcameramtx, roi = cv.getOptimalNewCameraMatrix(mtx, dist, (w, h), 1, (w, h))\n",
    "    # undistort\n",
    "    dst = cv.undistort(img, mtx, dist, None, newcameramtx)\n",
    "    # crop the image\n",
    "    x, y, w, h = roi\n",
    "    dst = dst[y:y + h, x:x + w]\n",
    "    return dst"
   ]
  },
  {
   "cell_type": "markdown",
   "id": "7f722b35",
   "metadata": {},
   "source": [
    "## videoflow"
   ]
  },
  {
   "cell_type": "code",
   "execution_count": 57,
   "id": "cd4922ff",
   "metadata": {},
   "outputs": [],
   "source": [
    "# 读取视频\n",
    "s1 = cv.VideoCapture(1)\n",
    "s2 = cv.VideoCapture(2)\n",
    "# s3 = cv2.VideoCapture(3)"
   ]
  },
  {
   "cell_type": "code",
   "execution_count": 58,
   "id": "bf2a3346",
   "metadata": {},
   "outputs": [],
   "source": [
    "# 读视频第一帧\n",
    "success1, frame1 = s1.read()\n",
    "success2, frame2 = s2.read()"
   ]
  },
  {
   "cell_type": "code",
   "execution_count": 59,
   "id": "8d2aa605",
   "metadata": {},
   "outputs": [
    {
     "data": {
      "text/plain": [
       "True"
      ]
     },
     "execution_count": 59,
     "metadata": {},
     "output_type": "execute_result"
    }
   ],
   "source": [
    "success1"
   ]
  },
  {
   "cell_type": "code",
   "execution_count": 62,
   "id": "bff91bbf",
   "metadata": {},
   "outputs": [
    {
     "data": {
      "text/plain": [
       "False"
      ]
     },
     "execution_count": 62,
     "metadata": {},
     "output_type": "execute_result"
    }
   ],
   "source": [
    "success2"
   ]
  },
  {
   "cell_type": "code",
   "execution_count": 60,
   "id": "f74a50c9",
   "metadata": {},
   "outputs": [
    {
     "name": "stdout",
     "output_type": "stream",
     "text": [
      "[[[10  3  4]\n",
      "  [12  3  4]\n",
      "  [14  2  4]\n",
      "  ...\n",
      "  [10  3  3]\n",
      "  [10  3  4]\n",
      "  [10  3  4]]\n",
      "\n",
      " [[10  3  4]\n",
      "  [10  3  4]\n",
      "  [10  3  4]\n",
      "  ...\n",
      "  [10  3  4]\n",
      "  [10  3  4]\n",
      "  [10  3  4]]\n",
      "\n",
      " [[14  2  4]\n",
      "  [12  3  4]\n",
      "  [10  3  4]\n",
      "  ...\n",
      "  [10  3  4]\n",
      "  [10  3  4]\n",
      "  [10  3  4]]\n",
      "\n",
      " ...\n",
      "\n",
      " [[ 8  3  4]\n",
      "  [ 8  3  4]\n",
      "  [ 8  3  4]\n",
      "  ...\n",
      "  [ 9  3  4]\n",
      "  [10  3  4]\n",
      "  [10  3  4]]\n",
      "\n",
      " [[ 8  3  4]\n",
      "  [ 8  3  4]\n",
      "  [ 8  3  4]\n",
      "  ...\n",
      "  [ 5  1  1]\n",
      "  [ 8  3  4]\n",
      "  [ 8  3  4]]\n",
      "\n",
      " [[ 8  3  4]\n",
      "  [ 9  3  4]\n",
      "  [10  3  4]\n",
      "  ...\n",
      "  [ 5  1  1]\n",
      "  [ 8  3  4]\n",
      "  [ 8  3  4]]]\n"
     ]
    }
   ],
   "source": [
    "print(frame1)\n"
   ]
  },
  {
   "cell_type": "code",
   "execution_count": 61,
   "id": "9da5eccc",
   "metadata": {},
   "outputs": [
    {
     "name": "stdout",
     "output_type": "stream",
     "text": [
      "(480, 640, 3)\n",
      "921600\n",
      "uint8\n"
     ]
    },
    {
     "ename": "AttributeError",
     "evalue": "'NoneType' object has no attribute 'shape'",
     "output_type": "error",
     "traceback": [
      "\u001b[1;31m---------------------------------------------------------------------------\u001b[0m",
      "\u001b[1;31mAttributeError\u001b[0m                            Traceback (most recent call last)",
      "\u001b[1;32mC:\\Users\\ADMINI~1\\AppData\\Local\\Temp/ipykernel_3156/2197168046.py\u001b[0m in \u001b[0;36m<module>\u001b[1;34m\u001b[0m\n\u001b[0;32m      3\u001b[0m \u001b[0mprint\u001b[0m\u001b[1;33m(\u001b[0m\u001b[0mframe1\u001b[0m\u001b[1;33m.\u001b[0m\u001b[0mdtype\u001b[0m\u001b[1;33m)\u001b[0m\u001b[1;33m\u001b[0m\u001b[1;33m\u001b[0m\u001b[0m\n\u001b[0;32m      4\u001b[0m \u001b[1;33m\u001b[0m\u001b[0m\n\u001b[1;32m----> 5\u001b[1;33m \u001b[0mprint\u001b[0m\u001b[1;33m(\u001b[0m\u001b[0mframe2\u001b[0m\u001b[1;33m.\u001b[0m\u001b[0mshape\u001b[0m\u001b[1;33m)\u001b[0m\u001b[1;33m\u001b[0m\u001b[1;33m\u001b[0m\u001b[0m\n\u001b[0m\u001b[0;32m      6\u001b[0m \u001b[0mprint\u001b[0m\u001b[1;33m(\u001b[0m\u001b[0mframe2\u001b[0m\u001b[1;33m.\u001b[0m\u001b[0msize\u001b[0m\u001b[1;33m)\u001b[0m\u001b[1;33m\u001b[0m\u001b[1;33m\u001b[0m\u001b[0m\n\u001b[0;32m      7\u001b[0m \u001b[0mprint\u001b[0m\u001b[1;33m(\u001b[0m\u001b[0mframe2\u001b[0m\u001b[1;33m.\u001b[0m\u001b[0mdtype\u001b[0m\u001b[1;33m)\u001b[0m\u001b[1;33m\u001b[0m\u001b[1;33m\u001b[0m\u001b[0m\n",
      "\u001b[1;31mAttributeError\u001b[0m: 'NoneType' object has no attribute 'shape'"
     ]
    }
   ],
   "source": [
    "print(frame1.shape)\n",
    "print(frame1.size)\n",
    "print(frame1.dtype)\n",
    "\n",
    "print(frame2.shape)\n",
    "print(frame2.size)\n",
    "print(frame2.dtype)"
   ]
  },
  {
   "cell_type": "code",
   "execution_count": 38,
   "id": "74b2e73b",
   "metadata": {},
   "outputs": [
    {
     "ename": "TypeError",
     "evalue": "'NoneType' object is not subscriptable",
     "output_type": "error",
     "traceback": [
      "\u001b[1;31m---------------------------------------------------------------------------\u001b[0m",
      "\u001b[1;31mTypeError\u001b[0m                                 Traceback (most recent call last)",
      "\u001b[1;32mC:\\Users\\ADMINI~1\\AppData\\Local\\Temp/ipykernel_3156/2065297187.py\u001b[0m in \u001b[0;36m<module>\u001b[1;34m\u001b[0m\n\u001b[0;32m      2\u001b[0m \u001b[0msuccess1\u001b[0m\u001b[1;33m,\u001b[0m \u001b[0mframe1\u001b[0m \u001b[1;33m=\u001b[0m \u001b[0ms1\u001b[0m\u001b[1;33m.\u001b[0m\u001b[0mread\u001b[0m\u001b[1;33m(\u001b[0m\u001b[1;33m)\u001b[0m\u001b[1;33m\u001b[0m\u001b[1;33m\u001b[0m\u001b[0m\n\u001b[0;32m      3\u001b[0m \u001b[0msuccess2\u001b[0m\u001b[1;33m,\u001b[0m \u001b[0mframe2\u001b[0m \u001b[1;33m=\u001b[0m \u001b[0ms2\u001b[0m\u001b[1;33m.\u001b[0m\u001b[0mread\u001b[0m\u001b[1;33m(\u001b[0m\u001b[1;33m)\u001b[0m\u001b[1;33m\u001b[0m\u001b[1;33m\u001b[0m\u001b[0m\n\u001b[1;32m----> 4\u001b[1;33m \u001b[0mframe1\u001b[0m \u001b[1;33m=\u001b[0m \u001b[0mframe1\u001b[0m\u001b[1;33m[\u001b[0m\u001b[1;36m0\u001b[0m\u001b[1;33m:\u001b[0m\u001b[1;36m480\u001b[0m\u001b[1;33m,\u001b[0m\u001b[1;36m80\u001b[0m\u001b[1;33m:\u001b[0m\u001b[1;36m560\u001b[0m\u001b[1;33m]\u001b[0m\u001b[1;33m\u001b[0m\u001b[1;33m\u001b[0m\u001b[0m\n\u001b[0m\u001b[0;32m      5\u001b[0m \u001b[0mframe2\u001b[0m \u001b[1;33m=\u001b[0m \u001b[0mframe2\u001b[0m\u001b[1;33m[\u001b[0m\u001b[1;36m0\u001b[0m\u001b[1;33m:\u001b[0m\u001b[1;36m480\u001b[0m\u001b[1;33m,\u001b[0m\u001b[1;36m80\u001b[0m\u001b[1;33m:\u001b[0m\u001b[1;36m560\u001b[0m\u001b[1;33m]\u001b[0m\u001b[1;33m\u001b[0m\u001b[1;33m\u001b[0m\u001b[0m\n\u001b[0;32m      6\u001b[0m \u001b[0mstitcher\u001b[0m \u001b[1;33m=\u001b[0m \u001b[0mStitcher\u001b[0m\u001b[1;33m(\u001b[0m\u001b[1;33m)\u001b[0m\u001b[1;33m\u001b[0m\u001b[1;33m\u001b[0m\u001b[0m\n",
      "\u001b[1;31mTypeError\u001b[0m: 'NoneType' object is not subscriptable"
     ]
    }
   ],
   "source": [
    "frame1 = frame1[0:480,80:560]\n",
    "frame2 = frame2[0:480,80:560]\n",
    "stitcher = Stitcher()\n",
    "(result, vis) = stitcher.stitchleft([frame1, frame2], showMatches=True)\n",
    "resultInfo = result.shape\n",
    "size = (resultInfo[1],resultInfo[0])\n",
    "\n",
    "# 获取帧率\n",
    "fps1 = s1.get(cv.CAP_PROP_FPS)\n",
    "fps2 = s2.get(cv.CAP_PROP_FPS)\n",
    "\n",
    "# VideoWriter实例化\n",
    "fourcc = cv.VideoWriter_fourcc('X','V','I','D')\n",
    "writer = cv.VideoWriter('1.avi', fourcc , 5 , size )\n",
    "result.dtype = np.uint8\n",
    "writer.write(result)\n",
    "i=0;j=0;\n",
    "\n",
    "#摄像头标定\n",
    "(ret1_1, mtx_1, dist_1, rvecs_1, tvecs_1)=calibration(toBeCalibratedImages_1,saveLocation_1,dstLocation_1)\n",
    "(ret1_2, mtx_2, dist_2, rvecs_2, tvecs_2)=calibration(toBeCalibratedImages_2,saveLocation_2,dstLocation_2)\n",
    "\n",
    "while success1:\n",
    "    i=i+1\n",
    "    success1, frame1 = s1.read()\n",
    "    if frame1 is None:\n",
    "        print(\"frame1 is none, break\")\n",
    "        break\n",
    "    frame1=frame1[0:480,80:560]\n",
    "    frame1=undistort(frame1,mtx_1, dist_1)\n",
    "    print (\"processing: \",i,\",success1:\",success1,\"frame1\",frame1[320,180,:])\n",
    "\n",
    "    while success2:\n",
    "        j=j+1\n",
    "        success2, frame2 = s2.read()\n",
    "        if frame2 is None:\n",
    "            print(\"frame2 is none, break\")\n",
    "            break\n",
    "        frame2=frame2[0:480,80:560]\n",
    "        frame2=undistort(frame2,mtx_2, dist_2)\n",
    "        print(\"processing: \", j, \",success2:\", success2, \"frame2\", frame2[320, 180, :])\n",
    "\n",
    "        (result, vis) = stitcher.stitchleft([frame1, frame2], showMatches=True)\n",
    "\n",
    "        print(\"result:\",result[320,180,:])\n",
    "        result.dtype = np.uint8\n",
    "        writer.write(result)\n",
    "\n",
    "        cv.imshow(\"result\", result);\n",
    "        # if (cv.waitKey(3) & 0xff) == ord('q'):\n",
    "        if (cv.waitKey(1) & 0xff) == 27:\n",
    "            break\n",
    "        break\n",
    "    if (cv.waitKey(1) & 0xff) == 27:\n",
    "        break\n",
    "\n",
    "# 释放VideoCapture资源\n",
    "s2.release()\n",
    "s1.release()\n",
    "# 释放VideoWriter资源\n",
    "writer.release()\n",
    "print(\"successfully released!\")\n",
    "cv.destroyAllWindows()"
   ]
  },
  {
   "cell_type": "code",
   "execution_count": null,
   "id": "72c0e1db",
   "metadata": {},
   "outputs": [],
   "source": []
  }
 ],
 "metadata": {
  "kernelspec": {
   "display_name": "Python 3 (ipykernel)",
   "language": "python",
   "name": "python3"
  },
  "language_info": {
   "codemirror_mode": {
    "name": "ipython",
    "version": 3
   },
   "file_extension": ".py",
   "mimetype": "text/x-python",
   "name": "python",
   "nbconvert_exporter": "python",
   "pygments_lexer": "ipython3",
   "version": "3.9.7"
  }
 },
 "nbformat": 4,
 "nbformat_minor": 5
}
