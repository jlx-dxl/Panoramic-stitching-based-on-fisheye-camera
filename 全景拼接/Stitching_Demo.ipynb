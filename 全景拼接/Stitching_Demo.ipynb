{
 "cells": [
  {
   "cell_type": "code",
   "execution_count": 1,
   "id": "0b70e458",
   "metadata": {},
   "outputs": [],
   "source": [
    "import cv2\n",
    "import biaoding1\n",
    "import numpy as np\n",
    "from Stitcher import Stitcher\n",
    "import glob\n",
    "import os"
   ]
  },
  {
   "cell_type": "markdown",
   "id": "44abd975",
   "metadata": {},
   "source": [
    "### 去畸变参数读取"
   ]
  },
  {
   "cell_type": "code",
   "execution_count": 2,
   "id": "f35bde2a",
   "metadata": {},
   "outputs": [],
   "source": [
    "DIM = []\n",
    "K = []\n",
    "D = []\n",
    "CAMERA_COUNT = 3  # 摄像头个数\n",
    "\n",
    "for index in range(1, CAMERA_COUNT + 1):\n",
    "    DIM.append(np.load(r\"D:/大四上/传感器/全景拼接/data/DIM\" + str(index) + \".npy\"))\n",
    "    K.append(np.load(r\"D:/大四上/传感器/全景拼接/data/K\" + str(index) + \".npy\"))\n",
    "    D.append(np.load(r\"D:/大四上/传感器/全景拼接/data/D\" + str(index) + \".npy\"))"
   ]
  },
  {
   "cell_type": "markdown",
   "id": "d579e5c9",
   "metadata": {},
   "source": [
    "### 函数定义"
   ]
  },
  {
   "cell_type": "code",
   "execution_count": 45,
   "id": "941128c4",
   "metadata": {},
   "outputs": [],
   "source": [
    "#SIFT算法（返回特征点集，及对应的特征向量集）\n",
    "def detectAndDescribe(image):\n",
    "    gray = cv2.cvtColor(image, cv2.COLOR_BGR2GRAY)\n",
    "\n",
    "    # 建立SIFT生成器\n",
    "    descriptor = cv2.xfeatures2d.SIFT_create()\n",
    "    # 检测SIFT特征点，并计算描述子\n",
    "    (kps, features) = descriptor.detectAndCompute(image, None)\n",
    "\n",
    "    # 将结果转换成NumPy数组\n",
    "    kps = np.float32([kp.pt for kp in kps])\n",
    "\n",
    "    # 返回特征点集，及对应的描述特征\n",
    "    return (kps, features)\n",
    "\n",
    "#Brute-Force蛮力匹配算法\n",
    "def matchKeypoints(kpsA, kpsB, featuresA, featuresB, ratio, reprojThresh):\n",
    "    # 建立暴力匹配器\n",
    "    matcher = cv2.BFMatcher()\n",
    "\n",
    "    # 使用KNN检测来自A、B图的SIFT特征匹配对，K=2\n",
    "    rawMatches = matcher.knnMatch(featuresA, featuresB, 2)\n",
    "\n",
    "    matches = []\n",
    "    for m in rawMatches:\n",
    "        # 当最近距离跟次近距离的比值小于ratio值时，保留此匹配对\n",
    "        if len(m) == 2 and m[0].distance < m[1].distance * ratio:\n",
    "        # 存储两个点在featuresA, featuresB中的索引值\n",
    "            matches.append((m[0].trainIdx, m[0].queryIdx))\n",
    "\n",
    "    # 当筛选后的匹配对大于4时，计算视角变换矩阵\n",
    "    if len(matches) > 4:\n",
    "        # 获取匹配对的点坐标\n",
    "        ptsA = np.float32([kpsA[i] for (_, i) in matches])\n",
    "        ptsB = np.float32([kpsB[i] for (i, _) in matches])\n",
    "\n",
    "        # 计算视角变换矩阵\n",
    "        (H, status) = cv2.findHomography(ptsA, ptsB, cv2.RANSAC, reprojThresh)\n",
    "\n",
    "        # 返回结果\n",
    "        return (matches, H, status)\n",
    "\n",
    "    # 如果匹配对小于4时，返回None\n",
    "    return None\n",
    "\n",
    "def drawMatches(imageA, imageB, kpsA, kpsB, matches, status):\n",
    "    # 初始化可视化图片，将A、B图左右连接到一起\n",
    "    (hA, wA) = imageA.shape[:2]\n",
    "    (hB, wB) = imageB.shape[:2]\n",
    "    vis = np.zeros((max(hA, hB), wA + wB, 3), dtype=\"uint8\")\n",
    "    vis[0:hA, 0:wA] = imageA\n",
    "    vis[0:hB, wA:] = imageB\n",
    "\n",
    "    # 联合遍历，画出匹配对\n",
    "    for ((trainIdx, queryIdx), s) in zip(matches, status):\n",
    "        # 当点对匹配成功时，画到可视化图上\n",
    "        if s == 1:\n",
    "            # 画出匹配对\n",
    "            ptA = (int(kpsA[queryIdx][0]), int(kpsA[queryIdx][1]))\n",
    "            ptB = (int(kpsB[trainIdx][0]) + wA, int(kpsB[trainIdx][1]))\n",
    "            cv2.line(vis, ptA, ptB, (0, 255, 0), 1)\n",
    "\n",
    "    # 返回可视化结果\n",
    "    return vis\n",
    "\n",
    "def stitch(images, ratio=0.9, reprojThresh=4.0,showMatches=False):\n",
    "    #获取输入图片\n",
    "    (imageB, imageA) = images\n",
    "    #检测A、B图片的SIFT关键特征点，并计算特征描述子\n",
    "    (kpsA, featuresA) = detectAndDescribe(imageA)\n",
    "    (kpsB, featuresB) = detectAndDescribe(imageB)\n",
    "\n",
    "    # 匹配两张图片的所有特征点，返回匹配结果\n",
    "    M = matchKeypoints(kpsA, kpsB, featuresA, featuresB, ratio, reprojThresh)\n",
    "\n",
    "    # 如果返回结果为空，没有匹配成功的特征点，退出算法\n",
    "    if M is None:\n",
    "        return None\n",
    "\n",
    "    # 否则，提取匹配结果\n",
    "    # H是3x3视角变换矩阵\n",
    "    (matches, H, status) = M\n",
    "    # 将图片A进行视角变换，result是变换后图片\n",
    "    result = cv2.warpPerspective(imageA, H, (imageA.shape[1] + imageB.shape[1], imageA.shape[0]))\n",
    "    #cv_show('result', result)\n",
    "    # 将图片B传入result图片最左端\n",
    "    result[0:imageB.shape[0], 0:imageB.shape[1]] = imageB\n",
    "    #cv_show('result', result)\n",
    "    # 检测是否需要显示图片匹配\n",
    "    if showMatches:\n",
    "        # 生成匹配图片\n",
    "        vis = drawMatches(imageA, imageB, kpsA, kpsB, matches, status)\n",
    "        # 返回结果\n",
    "        return (result,H,vis)\n",
    "\n",
    "    # 返回匹配结果\n",
    "    return result"
   ]
  },
  {
   "cell_type": "code",
   "execution_count": 25,
   "id": "b1002bc2",
   "metadata": {},
   "outputs": [],
   "source": [
    "def offlinestitch(images,H):\n",
    "    (imageB, imageA) = images\n",
    "    result = cv2.warpPerspective(imageA, H, (imageA.shape[1] + imageB.shape[1], imageA.shape[0]))\n",
    "    result[0:imageB.shape[0], 0:imageB.shape[1]] = imageB\n",
    "    return result"
   ]
  },
  {
   "cell_type": "markdown",
   "id": "d4456ad7",
   "metadata": {},
   "source": [
    "### 载入摄像头"
   ]
  },
  {
   "cell_type": "code",
   "execution_count": 47,
   "id": "465a7f06",
   "metadata": {},
   "outputs": [
    {
     "data": {
      "text/plain": [
       "True"
      ]
     },
     "execution_count": 47,
     "metadata": {},
     "output_type": "execute_result"
    }
   ],
   "source": [
    "s1 = cv2.VideoCapture(0)\n",
    "s1.set(3,1920)\n",
    "s1.set(4,1080)\n",
    "s2 = cv2.VideoCapture(1)\n",
    "s2.set(3,1920)\n",
    "s2.set(4,1080)\n",
    "s3 = cv2.VideoCapture(2)\n",
    "s3.set(3,1920)\n",
    "s3.set(4,1080)"
   ]
  },
  {
   "cell_type": "markdown",
   "id": "6e6c93bc",
   "metadata": {},
   "source": [
    "### 主程序"
   ]
  },
  {
   "cell_type": "code",
   "execution_count": 48,
   "id": "2e35da09",
   "metadata": {},
   "outputs": [],
   "source": [
    "# stitcher=Stitcher()\n",
    "index=0\n",
    "# sum_H=np.zeros((3,3))\n",
    "# H_2_3=np.zeros((3,3))\n",
    "# H_index=[]\n",
    "# saveLocation=r'D:/imageStitching/1212/stitch_2_3/'\n",
    "# if not os.path.exists(saveLocation):\n",
    "#     os.makedirs(saveLocation)\n",
    "if s1.isOpened():\n",
    "# if s2.isOpened():\n",
    "#     if s3.isOpened():\n",
    "    while True:\n",
    "        ret1,frame1=s1.read()\n",
    "        frame1=frame1[0:1080,390:1470]\n",
    "        frame1=biaoding1.undistort_frames(frame1,DIM[0], K[0], D[0])\n",
    "        # frame1=cv2.resize(frame1,(360,360))\n",
    "\n",
    "        ret2,frame2=s2.read()\n",
    "        frame2=frame2[0:1080,390:1470]\n",
    "        frame2 = biaoding1.undistort_frames(frame2, DIM[1], K[1], D[1])\n",
    "        #             frame2 = cv2.resize(frame2, (360, 360))\n",
    "\n",
    "        ret3,frame3=s3.read()\n",
    "        frame3=frame3[0:1080,390:1470]\n",
    "        frame3 = biaoding1.undistort_frames(frame3, DIM[2], K[2], D[2])\n",
    "        # #             frame3 = cv2.resize(frame3, (360, 360))\n",
    "\n",
    "        (result_right,H,vis_right) = stitch([frame2, frame3], showMatches=True)\n",
    "        result_right=cv2.resize(result_right,None,fx=0.5, fy=0.5)\n",
    "        # (result_left, vis_left) = stitcher.stitchleft([frame1, result_right], showMatches=True)\n",
    "        #             H_index.append(H)\n",
    "        #             sum_H=H+sum_H\n",
    "        #             H_2_3=sum_H/index\n",
    "        #             print(H_2_3)\n",
    "#         cv2.imshow(\"camera1\", frame1)\n",
    "        cv2.imshow(\"camera2\", frame2)\n",
    "        cv2.imshow(\"camera3\", frame3)\n",
    "        cv2.imshow(\"result_right\", result_right)\n",
    "        #             cv2.imshow(\"vis\", vis_right)\n",
    "        #             cv2.imwrite(saveLocation+str(index)+'.jpg', result_right)\n",
    "        # cv2.imshow(\"result\",result_left)\n",
    "        #             index=index+1\n",
    "        #             if index>=100:\n",
    "        #                 break\n",
    "        if cv2.waitKey(25) & 0xff==(ord('q')):\n",
    "            break\n",
    "\n",
    "s1.release()\n",
    "s2.release()\n",
    "s3.release()\n",
    "cv2.destroyAllWindows()"
   ]
  },
  {
   "cell_type": "markdown",
   "id": "330890b0",
   "metadata": {},
   "source": [
    "### 用离线参数拼接"
   ]
  },
  {
   "cell_type": "code",
   "execution_count": 67,
   "id": "2400f0ab",
   "metadata": {},
   "outputs": [],
   "source": [
    "np.save(r\"D:/大四上/传感器/全景拼接/data/H_2_3.npy\",H_2_3)"
   ]
  },
  {
   "cell_type": "code",
   "execution_count": 69,
   "id": "32b9cc93",
   "metadata": {},
   "outputs": [],
   "source": [
    "H_2_3=[]\n",
    "H_2_3=np.load(r\"D:/大四上/传感器/全景拼接/data/H_2_3.npy\",H_2_3)\n",
    "if s2.isOpened():\n",
    "    if s3.isOpened():\n",
    "        while True:\n",
    "            index=index+1\n",
    "            ret2,frame2=s2.read()\n",
    "            frame2 = biaoding1.undistort_frames(frame2, DIM[1], K[1], D[1])\n",
    "            ret3,frame3=s3.read()\n",
    "            frame3 = biaoding1.undistort_frames(frame3, DIM[2], K[2], D[2])\n",
    "            result=offlinestitch([frame2, frame3],H_2_3)\n",
    "            cv2.imshow(\"result\", result)\n",
    "            if cv2.waitKey(25) & 0xff==(ord('q')):\n",
    "                break\n",
    "s1.release()\n",
    "s2.release()\n",
    "s3.release()\n",
    "cv2.destroyAllWindows()\n"
   ]
  },
  {
   "cell_type": "markdown",
   "id": "1a419adb",
   "metadata": {},
   "source": [
    "### 获取离线图片"
   ]
  },
  {
   "cell_type": "code",
   "execution_count": 25,
   "id": "e57f37c4",
   "metadata": {},
   "outputs": [],
   "source": [
    "index=0\n",
    "saveLocation=r'D:/imageStitching/1212/stitch_2_3/'\n",
    "if not os.path.exists(saveLocation):\n",
    "    os.makedirs(saveLocation)\n",
    "if s1.isOpened():\n",
    "    if s2.isOpened():\n",
    "        if s3.isOpened():\n",
    "            while True:\n",
    "#                 ret1,frame1=s1.read()\n",
    "#                 frame1=biaoding1.undistort_frames(frame1, DIM[0], K[0], D[0])\n",
    "#                 # frame1=cv2.resize(frame1,(360,360))\n",
    "\n",
    "                ret2,frame2=s2.read()\n",
    "                frame2 = biaoding1.undistort_frames(frame2, DIM[1], K[1], D[1])\n",
    "                # frame2 = cv2.resize(frame2, (360, 360))\n",
    "\n",
    "                ret3,frame3=s3.read()\n",
    "                frame3 = biaoding1.undistort_frames(frame3, DIM[2], K[2], D[2])\n",
    "    #                 frame3 = cv2.resize(frame3, (360, 360))\n",
    "\n",
    "#                 cv2.imshow(\"camera1\", frame1)\n",
    "                cv2.imshow(\"camera2\", frame2)\n",
    "                cv2.imshow(\"camera3\", frame3)\n",
    "                index=index+1\n",
    "                \n",
    "                if index<=20:\n",
    "                    continue\n",
    "#                 cv2.imwrite(saveLocation+r\"camera2_\"+str(index)+'.jpg', frame1)\n",
    "                cv2.imwrite(saveLocation+r\"camera2_\"+str(index)+'.jpg', frame2)\n",
    "                cv2.imwrite(saveLocation+r\"camera3_\"+str(index)+'.jpg', frame3)\n",
    "                if index>=100:\n",
    "                    break\n",
    "                if cv2.waitKey(25) & 0xff==(ord('q')):\n",
    "                    break\n",
    "\n",
    "s1.release()\n",
    "s2.release()\n",
    "s3.release()\n",
    "cv2.destroyAllWindows()\n",
    "    "
   ]
  },
  {
   "cell_type": "markdown",
   "id": "77cc8047",
   "metadata": {},
   "source": [
    "### 拼接静态图片"
   ]
  },
  {
   "cell_type": "code",
   "execution_count": 32,
   "id": "d0233dc4",
   "metadata": {},
   "outputs": [],
   "source": [
    "saveLocation=r'D:/imageStitching/1212/stitch_2_3/'\n",
    "\n",
    "index=100\n",
    "# 读取拼接图片\n",
    "imageA = cv2.imread(saveLocation+r\"camera2_\"+str(index)+'.jpg')\n",
    "imageB = cv2.imread(saveLocation+r\"camera3_\"+str(index)+'.jpg')\n",
    "\n",
    "# 把图片拼接成全景图\n",
    "stitcher = Stitcher() #创建类的实例化\n",
    "(result, vis) = stitcher.stitchleft([imageA, imageB], showMatches=True) #调用类中的函数\n",
    "\n",
    "# 显示所有图片\n",
    "stitcher.cv_show(\"Keypoint Matches\", vis)\n",
    "stitcher.cv_show(\"Result\", result)\n",
    "cv2.waitKey(0)\n",
    "cv2.destroyAllWindows()"
   ]
  },
  {
   "cell_type": "code",
   "execution_count": 24,
   "id": "1b91603d",
   "metadata": {},
   "outputs": [
    {
     "name": "stdout",
     "output_type": "stream",
     "text": [
      "[[160.81101317   0.         242.33570829]\n",
      " [  0.         161.04777673 236.6130631 ]\n",
      " [  0.           0.           1.        ]]\n",
      "[[159.60370542   0.         225.59037695]\n",
      " [  0.         159.9038378  232.02681161]\n",
      " [  0.           0.           1.        ]]\n",
      "[[163.76812015   0.         239.09298896]\n",
      " [  0.         163.97747475 236.92056073]\n",
      " [  0.           0.           1.        ]]\n"
     ]
    }
   ],
   "source": [
    "for index in range(1, 4):\n",
    "    DIM.append(np.load(r\"D:/大四上/传感器/全景拼接/data/DIM\" + str(index) + \".npy\"))\n",
    "    K.append(np.load(r\"D:/大四上/传感器/全景拼接/data/K\" + str(index) + \".npy\"))\n",
    "    D.append(np.load(r\"D:/大四上/传感器/全景拼接/data/D\" + str(index) + \".npy\"))\n",
    "    print(K[index-1])"
   ]
  },
  {
   "cell_type": "markdown",
   "id": "ec189934",
   "metadata": {},
   "source": [
    "### 12.13demo"
   ]
  },
  {
   "cell_type": "code",
   "execution_count": 34,
   "id": "30a295ad",
   "metadata": {},
   "outputs": [
    {
     "ename": "AttributeError",
     "evalue": "'NoneType' object has no attribute 'shape'",
     "output_type": "error",
     "traceback": [
      "\u001b[1;31m---------------------------------------------------------------------------\u001b[0m",
      "\u001b[1;31mAttributeError\u001b[0m                            Traceback (most recent call last)",
      "\u001b[1;32mC:\\Users\\ADMINI~1\\AppData\\Local\\Temp/ipykernel_11836/2484780873.py\u001b[0m in \u001b[0;36m<module>\u001b[1;34m\u001b[0m\n\u001b[0;32m      2\u001b[0m     \u001b[1;32mwhile\u001b[0m \u001b[1;32mTrue\u001b[0m\u001b[1;33m:\u001b[0m\u001b[1;33m\u001b[0m\u001b[1;33m\u001b[0m\u001b[0m\n\u001b[0;32m      3\u001b[0m         \u001b[0mret\u001b[0m\u001b[1;33m,\u001b[0m\u001b[0mframe\u001b[0m\u001b[1;33m=\u001b[0m\u001b[0ms1\u001b[0m\u001b[1;33m.\u001b[0m\u001b[0mread\u001b[0m\u001b[1;33m(\u001b[0m\u001b[1;33m)\u001b[0m\u001b[1;33m\u001b[0m\u001b[1;33m\u001b[0m\u001b[0m\n\u001b[1;32m----> 4\u001b[1;33m         \u001b[0mframe1\u001b[0m\u001b[1;33m=\u001b[0m\u001b[0mbiaoding1\u001b[0m\u001b[1;33m.\u001b[0m\u001b[0mundistort_frames\u001b[0m\u001b[1;33m(\u001b[0m\u001b[0mframe\u001b[0m\u001b[1;33m,\u001b[0m \u001b[0mDIM\u001b[0m\u001b[1;33m[\u001b[0m\u001b[1;36m1\u001b[0m\u001b[1;33m]\u001b[0m\u001b[1;33m,\u001b[0m \u001b[0mK\u001b[0m\u001b[1;33m[\u001b[0m\u001b[1;36m1\u001b[0m\u001b[1;33m]\u001b[0m\u001b[1;33m,\u001b[0m \u001b[0mD\u001b[0m\u001b[1;33m[\u001b[0m\u001b[1;36m1\u001b[0m\u001b[1;33m]\u001b[0m\u001b[1;33m)\u001b[0m\u001b[1;33m\u001b[0m\u001b[1;33m\u001b[0m\u001b[0m\n\u001b[0m\u001b[0;32m      5\u001b[0m         \u001b[0mcv2\u001b[0m\u001b[1;33m.\u001b[0m\u001b[0mimshow\u001b[0m\u001b[1;33m(\u001b[0m\u001b[1;34m\"camera1\"\u001b[0m\u001b[1;33m,\u001b[0m \u001b[0mframe1\u001b[0m\u001b[1;33m)\u001b[0m\u001b[1;33m\u001b[0m\u001b[1;33m\u001b[0m\u001b[0m\n\u001b[0;32m      6\u001b[0m         \u001b[1;32mif\u001b[0m \u001b[0mcv2\u001b[0m\u001b[1;33m.\u001b[0m\u001b[0mwaitKey\u001b[0m\u001b[1;33m(\u001b[0m\u001b[1;36m25\u001b[0m\u001b[1;33m)\u001b[0m \u001b[1;33m&\u001b[0m \u001b[1;36m0xff\u001b[0m\u001b[1;33m==\u001b[0m\u001b[1;33m(\u001b[0m\u001b[0mord\u001b[0m\u001b[1;33m(\u001b[0m\u001b[1;34m'q'\u001b[0m\u001b[1;33m)\u001b[0m\u001b[1;33m)\u001b[0m\u001b[1;33m:\u001b[0m\u001b[1;33m\u001b[0m\u001b[1;33m\u001b[0m\u001b[0m\n",
      "\u001b[1;32mD:\\大四上\\传感器\\全景拼接\\biaoding1.py\u001b[0m in \u001b[0;36mundistort_frames\u001b[1;34m(img, DIM, K, D)\u001b[0m\n\u001b[0;32m     80\u001b[0m \u001b[1;32mdef\u001b[0m \u001b[0mundistort_frames\u001b[0m\u001b[1;33m(\u001b[0m\u001b[0mimg\u001b[0m\u001b[1;33m,\u001b[0m \u001b[0mDIM\u001b[0m\u001b[1;33m,\u001b[0m \u001b[0mK\u001b[0m\u001b[1;33m,\u001b[0m \u001b[0mD\u001b[0m\u001b[1;33m)\u001b[0m\u001b[1;33m:\u001b[0m\u001b[1;33m\u001b[0m\u001b[1;33m\u001b[0m\u001b[0m\n\u001b[0;32m     81\u001b[0m     \u001b[0mh\u001b[0m\u001b[1;33m,\u001b[0m \u001b[0mw\u001b[0m \u001b[1;33m=\u001b[0m \u001b[0mimg\u001b[0m\u001b[1;33m.\u001b[0m\u001b[0mshape\u001b[0m\u001b[1;33m[\u001b[0m\u001b[1;33m:\u001b[0m\u001b[1;36m2\u001b[0m\u001b[1;33m]\u001b[0m\u001b[1;33m\u001b[0m\u001b[1;33m\u001b[0m\u001b[0m\n\u001b[1;32m---> 82\u001b[1;33m     \u001b[0mmap1\u001b[0m\u001b[1;33m,\u001b[0m \u001b[0mmap2\u001b[0m \u001b[1;33m=\u001b[0m \u001b[0mcv2\u001b[0m\u001b[1;33m.\u001b[0m\u001b[0mfisheye\u001b[0m\u001b[1;33m.\u001b[0m\u001b[0minitUndistortRectifyMap\u001b[0m\u001b[1;33m(\u001b[0m\u001b[0mK\u001b[0m\u001b[1;33m,\u001b[0m \u001b[0mD\u001b[0m\u001b[1;33m,\u001b[0m \u001b[0mnp\u001b[0m\u001b[1;33m.\u001b[0m\u001b[0meye\u001b[0m\u001b[1;33m(\u001b[0m\u001b[1;36m3\u001b[0m\u001b[1;33m)\u001b[0m\u001b[1;33m,\u001b[0m \u001b[0mK\u001b[0m\u001b[1;33m,\u001b[0m \u001b[0mDIM\u001b[0m\u001b[1;33m,\u001b[0m \u001b[0mcv2\u001b[0m\u001b[1;33m.\u001b[0m\u001b[0mCV_16SC2\u001b[0m\u001b[1;33m)\u001b[0m\u001b[1;33m\u001b[0m\u001b[1;33m\u001b[0m\u001b[0m\n\u001b[0m\u001b[0;32m     83\u001b[0m     \u001b[0mundistorted_img\u001b[0m \u001b[1;33m=\u001b[0m \u001b[0mcv2\u001b[0m\u001b[1;33m.\u001b[0m\u001b[0mremap\u001b[0m\u001b[1;33m(\u001b[0m\u001b[0mimg\u001b[0m\u001b[1;33m,\u001b[0m \u001b[0mmap1\u001b[0m\u001b[1;33m,\u001b[0m \u001b[0mmap2\u001b[0m\u001b[1;33m,\u001b[0m \u001b[0minterpolation\u001b[0m\u001b[1;33m=\u001b[0m\u001b[0mcv2\u001b[0m\u001b[1;33m.\u001b[0m\u001b[0mINTER_LINEAR\u001b[0m\u001b[1;33m,\u001b[0m \u001b[0mborderMode\u001b[0m\u001b[1;33m=\u001b[0m\u001b[0mcv2\u001b[0m\u001b[1;33m.\u001b[0m\u001b[0mBORDER_CONSTANT\u001b[0m\u001b[1;33m)\u001b[0m\u001b[1;33m\u001b[0m\u001b[1;33m\u001b[0m\u001b[0m\n\u001b[0;32m     84\u001b[0m     \u001b[1;32mreturn\u001b[0m \u001b[0mundistorted_img\u001b[0m\u001b[1;33m\u001b[0m\u001b[1;33m\u001b[0m\u001b[0m\n",
      "\u001b[1;31mAttributeError\u001b[0m: 'NoneType' object has no attribute 'shape'"
     ]
    }
   ],
   "source": [
    "if s1.isOpened():\n",
    "    while True:\n",
    "        ret,frame=s1.read()\n",
    "        frame1=biaoding1.undistort_frames(frame, DIM[1], K[1], D[1])\n",
    "        cv2.imshow(\"camera1\", frame1)\n",
    "        if cv2.waitKey(25) & 0xff==(ord('q')):\n",
    "            break\n",
    "s1.release()\n",
    "cv2.destroyAllWindows()"
   ]
  },
  {
   "cell_type": "markdown",
   "id": "043fa0ec",
   "metadata": {},
   "source": [
    "### 图片集去畸变"
   ]
  },
  {
   "cell_type": "code",
   "execution_count": 3,
   "id": "1a2b403b",
   "metadata": {},
   "outputs": [],
   "source": [
    "Images=[]\n",
    "for index in range(1,4):\n",
    "    Images.append(sorted(glob.glob(r\"D:/imageStitching/waicanbiaoding1/camera\"+str(index)+\"/*.jpg\"),key=os.path.getmtime))\n",
    "    \n",
    "saveLocation=[]\n",
    "for index in range(1,4):\n",
    "    saveLocation.append(r\"D:/imageStitching/waicanbiaoding1/camera\"+str(index)+\"_undistorted/\")\n",
    "    \n",
    "for index in range(3):\n",
    "    for fname in Images[index]:\n",
    "        undistorted_img=biaoding1.undistort_Images(fname,DIM[index],K[index],D[index],saveLocation[index])    \n",
    "\n",
    "    "
   ]
  },
  {
   "cell_type": "code",
   "execution_count": null,
   "id": "55344444",
   "metadata": {},
   "outputs": [],
   "source": []
  }
 ],
 "metadata": {
  "kernelspec": {
   "display_name": "Python 3 (ipykernel)",
   "language": "python",
   "name": "python3"
  },
  "language_info": {
   "codemirror_mode": {
    "name": "ipython",
    "version": 3
   },
   "file_extension": ".py",
   "mimetype": "text/x-python",
   "name": "python",
   "nbconvert_exporter": "python",
   "pygments_lexer": "ipython3",
   "version": "3.9.7"
  }
 },
 "nbformat": 4,
 "nbformat_minor": 5
}
