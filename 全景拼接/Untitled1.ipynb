{
 "cells": [
  {
   "cell_type": "code",
   "execution_count": 30,
   "id": "76b305ae",
   "metadata": {},
   "outputs": [],
   "source": [
    "import cv2   #调用opencv工具包（opencv读取的格式是BGR）\n",
    "import numpy as np "
   ]
  },
  {
   "cell_type": "code",
   "execution_count": 42,
   "id": "46ad6e85",
   "metadata": {},
   "outputs": [
    {
     "data": {
      "text/plain": [
       "34.80277773583998"
      ]
     },
     "execution_count": 42,
     "metadata": {},
     "output_type": "execute_result"
    }
   ],
   "source": [
    "vc = cv2.VideoCapture('result.mp4')\n",
    "fps = vc.get(cv2.CAP_PROP_FPS)\n",
    "writer = cv2.VideoWriter('output.avi', cv2.VideoWriter_fourcc('X', 'V', 'I', 'D'), fps, (505, 1430))\n",
    "# 检查是否打开正确\n",
    "if vc.isOpened(): \n",
    "    open, frame = vc.read()\n",
    "else:\n",
    "    open = False\n",
    "fps"
   ]
  },
  {
   "cell_type": "code",
   "execution_count": 43,
   "id": "770a9536",
   "metadata": {},
   "outputs": [],
   "source": [
    "while open:   #当视频正常打开时\n",
    "    ret, frame = vc.read()   \n",
    "    if frame is None:   #当读到空帧（即视频结束）\n",
    "        break\n",
    "    if ret == True:   #正常打开帧\n",
    "        frame=frame[0:505,0:1430]\n",
    "        cv2.imshow('frame',frame)\n",
    "        writer.write(frame)\n",
    "        if cv2.waitKey(10) & 0xFF == 27:   #通过每帧延时时间控制帧率，0xFF==27表示按下Esc键\n",
    "            break\n",
    "vc.release()\n",
    "writer.release()\n",
    "cv2.destroyAllWindows()"
   ]
  },
  {
   "cell_type": "code",
   "execution_count": null,
   "id": "7a108f00",
   "metadata": {},
   "outputs": [],
   "source": []
  }
 ],
 "metadata": {
  "kernelspec": {
   "display_name": "Python 3 (ipykernel)",
   "language": "python",
   "name": "python3"
  },
  "language_info": {
   "codemirror_mode": {
    "name": "ipython",
    "version": 3
   },
   "file_extension": ".py",
   "mimetype": "text/x-python",
   "name": "python",
   "nbconvert_exporter": "python",
   "pygments_lexer": "ipython3",
   "version": "3.9.7"
  }
 },
 "nbformat": 4,
 "nbformat_minor": 5
}
