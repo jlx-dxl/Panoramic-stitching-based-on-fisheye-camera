{
 "cells": [
  {
   "cell_type": "markdown",
   "id": "dcc1bc75",
   "metadata": {},
   "source": [
    "# 一些视频流的处理方法"
   ]
  },
  {
   "cell_type": "code",
   "execution_count": 1,
   "id": "b58b3b8e",
   "metadata": {},
   "outputs": [],
   "source": [
    "import cv2\n",
    "import numpy as np\n",
    "import os\n",
    "import glob"
   ]
  },
  {
   "cell_type": "code",
   "execution_count": 4,
   "id": "79a8d769",
   "metadata": {},
   "outputs": [],
   "source": [
    "s00 = cv2.VideoCapture(0)\n",
    "s01 = cv2.VideoCapture(1)\n",
    "s02 = cv2.VideoCapture(2)\n",
    "s03 = cv2.VideoCapture(3)"
   ]
  },
  {
   "cell_type": "code",
   "execution_count": 5,
   "id": "2281b5fe",
   "metadata": {},
   "outputs": [],
   "source": [
    "while 1:\n",
    "    ret0, frame0 = s00.read()\n",
    "    cv2.imshow(\"capture0\", frame0)\n",
    "    if cv2.waitKey(1) & 0xff == ord('q'):\n",
    "        break\n",
    "    if cv2.waitKey(1) & 0xff == ord('0'):\n",
    "        s0 = s00\n",
    "        break\n",
    "    if cv2.waitKey(1) & 0xff == ord('1'):\n",
    "        s1 = s00\n",
    "        break\n",
    "    if cv2.waitKey(1) & 0xff == ord('2'):\n",
    "        s2 = s00\n",
    "        break\n",
    "    if cv2.waitKey(1) & 0xff == ord('3'):\n",
    "        s3 = s00\n",
    "        break\n",
    "s00.release()\n",
    "cv2.destroyAllWindows()\n",
    "\n",
    "while 1:\n",
    "    ret1, frame1 = s01.read()\n",
    "    cv2.imshow(\"capture1\", frame1)\n",
    "    if cv2.waitKey(1) & 0xff == ord('q'):\n",
    "        break\n",
    "    if cv2.waitKey(1) & 0xff == ord('0'):\n",
    "        s0 = s01\n",
    "        break\n",
    "    if cv2.waitKey(1) & 0xff == ord('1'):\n",
    "        s1 = s01\n",
    "        break\n",
    "    if cv2.waitKey(1) & 0xff == ord('2'):\n",
    "        s2 = s01\n",
    "        break\n",
    "    if cv2.waitKey(1) & 0xff == ord('3'):\n",
    "        s3 = s01\n",
    "        break\n",
    "s01.release()\n",
    "cv2.destroyAllWindows()\n",
    "\n",
    "while 1:\n",
    "    ret2, frame2 = s02.read()\n",
    "    cv2.imshow(\"capture2\", frame2)\n",
    "    if cv2.waitKey(1) & 0xff == ord('q'):\n",
    "        break\n",
    "    if cv2.waitKey(1) & 0xff == ord('0'):\n",
    "        s0 = s02\n",
    "        break\n",
    "    if cv2.waitKey(1) & 0xff == ord('1'):\n",
    "        s1 = s02\n",
    "        break\n",
    "    if cv2.waitKey(1) & 0xff == ord('2'):\n",
    "        s2 = s02\n",
    "        break\n",
    "    if cv2.waitKey(1) & 0xff == ord('3'):\n",
    "        s3 = s02\n",
    "        break\n",
    "s02.release()\n",
    "cv2.destroyAllWindows()\n",
    "\n",
    "while 1:\n",
    "    ret3, frame3 = s03.read()\n",
    "    cv2.imshow(\"capture3\", frame3)\n",
    "    if cv2.waitKey(1) & 0xff == ord('q'):\n",
    "        break\n",
    "    if cv2.waitKey(1) & 0xff == ord('0'):\n",
    "        s0 = s03\n",
    "        break\n",
    "    if cv2.waitKey(1) & 0xff == ord('1'):\n",
    "        s1 = s03\n",
    "        break\n",
    "    if cv2.waitKey(1) & 0xff == ord('2'):\n",
    "        s2 = s03\n",
    "        break\n",
    "    if cv2.waitKey(1) & 0xff == ord('3'):\n",
    "        s3 = s03\n",
    "        break\n",
    "s03.release()\n",
    "cv2.destroyAllWindows()"
   ]
  },
  {
   "cell_type": "code",
   "execution_count": 3,
   "id": "67b83219",
   "metadata": {},
   "outputs": [],
   "source": [
    "s1 = cv2.VideoCapture(1)\n",
    "s2 = cv2.VideoCapture(2)\n",
    "s3 = cv2.VideoCapture(3)"
   ]
  },
  {
   "cell_type": "code",
   "execution_count": 3,
   "id": "8b3c52cb",
   "metadata": {},
   "outputs": [
    {
     "ename": "error",
     "evalue": "OpenCV(4.5.4) D:\\a\\opencv-python\\opencv-python\\opencv\\modules\\imgproc\\src\\color.cpp:182: error: (-215:Assertion failed) !_src.empty() in function 'cv::cvtColor'\n",
     "output_type": "error",
     "traceback": [
      "\u001b[1;31m---------------------------------------------------------------------------\u001b[0m",
      "\u001b[1;31merror\u001b[0m                                     Traceback (most recent call last)",
      "\u001b[1;32mC:\\Users\\ADMINI~1\\AppData\\Local\\Temp/ipykernel_11188/2440435231.py\u001b[0m in \u001b[0;36m<module>\u001b[1;34m\u001b[0m\n\u001b[0;32m     25\u001b[0m \u001b[1;32mwhile\u001b[0m \u001b[1;36m1\u001b[0m\u001b[1;33m:\u001b[0m\u001b[1;33m\u001b[0m\u001b[1;33m\u001b[0m\u001b[0m\n\u001b[0;32m     26\u001b[0m     \u001b[0mret3\u001b[0m\u001b[1;33m,\u001b[0m \u001b[0mframe3\u001b[0m \u001b[1;33m=\u001b[0m \u001b[0ms3\u001b[0m\u001b[1;33m.\u001b[0m\u001b[0mread\u001b[0m\u001b[1;33m(\u001b[0m\u001b[1;33m)\u001b[0m\u001b[1;33m\u001b[0m\u001b[1;33m\u001b[0m\u001b[0m\n\u001b[1;32m---> 27\u001b[1;33m     \u001b[0mcv2\u001b[0m\u001b[1;33m.\u001b[0m\u001b[0mimshow\u001b[0m\u001b[1;33m(\u001b[0m\u001b[1;34m\"capture3\"\u001b[0m\u001b[1;33m,\u001b[0m \u001b[0mframe3\u001b[0m\u001b[1;33m)\u001b[0m\u001b[1;33m\u001b[0m\u001b[1;33m\u001b[0m\u001b[0m\n\u001b[0m\u001b[0;32m     28\u001b[0m     \u001b[1;32mif\u001b[0m \u001b[0mcv2\u001b[0m\u001b[1;33m.\u001b[0m\u001b[0mwaitKey\u001b[0m\u001b[1;33m(\u001b[0m\u001b[1;36m10\u001b[0m\u001b[1;33m)\u001b[0m \u001b[1;33m&\u001b[0m \u001b[1;36m0xff\u001b[0m \u001b[1;33m==\u001b[0m \u001b[0mord\u001b[0m\u001b[1;33m(\u001b[0m\u001b[1;34m'q'\u001b[0m\u001b[1;33m)\u001b[0m\u001b[1;33m:\u001b[0m\u001b[1;33m\u001b[0m\u001b[1;33m\u001b[0m\u001b[0m\n\u001b[0;32m     29\u001b[0m         \u001b[1;32mbreak\u001b[0m\u001b[1;33m\u001b[0m\u001b[1;33m\u001b[0m\u001b[0m\n",
      "\u001b[1;31merror\u001b[0m: OpenCV(4.5.4) D:\\a\\opencv-python\\opencv-python\\opencv\\modules\\imgproc\\src\\color.cpp:182: error: (-215:Assertion failed) !_src.empty() in function 'cv::cvtColor'\n"
     ]
    }
   ],
   "source": [
    "while 1:\n",
    "    ret0, frame0 = s0.read()\n",
    "    cv2.imshow(\"capture0\", frame0)\n",
    "    if cv2.waitKey(10) & 0xff == ord('q'):\n",
    "        break\n",
    "s0.release()\n",
    "cv2.destroyAllWindows()\n",
    "\n",
    "while 1:\n",
    "    ret1, frame1 = s1.read()\n",
    "    cv2.imshow(\"capture1\", frame1)\n",
    "    if cv2.waitKey(10) & 0xff == ord('q'):\n",
    "        break\n",
    "s1.release()\n",
    "cv2.destroyAllWindows()\n",
    "\n",
    "while 1:\n",
    "    ret2, frame2 = s2.read()\n",
    "    cv2.imshow(\"capture2\", frame2)\n",
    "    if cv2.waitKey(10) & 0xff == ord('q'):\n",
    "        break\n",
    "s2.release()\n",
    "cv2.destroyAllWindows()\n",
    "\n",
    "while 1:\n",
    "    if s3.isOpened()\n",
    "        ret3, frame3 = s3.read()\n",
    "        cv2.imshow(\"capture3\", frame3)\n",
    "        if cv2.waitKey(10) & 0xff == ord('q'):\n",
    "            break\n",
    "s3.release()\n",
    "cv2.destroyAllWindows()"
   ]
  },
  {
   "cell_type": "code",
   "execution_count": null,
   "id": "999531b4",
   "metadata": {},
   "outputs": [],
   "source": [
    "while 1:\n",
    "    ret0, frame0 = s0.read()\n",
    "    cv2.imshow(\"capture0\", frame0)\n",
    "    if cv2.waitKey(10) & (0xff == ord('0') | 0xff == ord('1') | 0xff == ord('2') | 0xff == ord('3')):\n",
    "        if 0xff == ord('0'):\n",
    "            s0 = s0\n",
    "        if 0xff == ord('1'):\n",
    "            s1 = s0\n",
    "        if 0xff == ord('2'):\n",
    "            s2 = s0\n",
    "        if 0xff == ord('3'):\n",
    "            s3 = s0\n",
    "        break\n",
    "s0.release()\n",
    "cv2.destroyAllWindows()"
   ]
  },
  {
   "cell_type": "markdown",
   "id": "0b600ad6",
   "metadata": {},
   "source": [
    "## 一个窗口下多视频"
   ]
  },
  {
   "cell_type": "code",
   "execution_count": null,
   "id": "f12f4228",
   "metadata": {},
   "outputs": [
    {
     "name": "stdout",
     "output_type": "stream",
     "text": [
      "111\n",
      "111\n"
     ]
    }
   ],
   "source": [
    "width = (int(s1.get(cv2.CAP_PROP_FRAME_WIDTH)))\n",
    "height = (int(s1.get(cv2.CAP_PROP_FRAME_HEIGHT)))\n",
    " \n",
    "while (s1.isOpened()):\n",
    "    ret1, frame1 =s1.read()\n",
    "    ret2, frame2 =s2.read()\n",
    "    ret3, frame3 =s3.read()\n",
    " \n",
    "    frame1 = cv2.resize(frame1, (int(width), int(height)), interpolation=cv2.INTER_CUBIC)\n",
    "    frame2 = cv2.resize(frame1, (int(width), int(height)), interpolation=cv2.INTER_CUBIC)\n",
    "    frame3 = cv2.resize(frame1, (int(width), int(height)), interpolation=cv2.INTER_CUBIC)\n",
    " \n",
    "    frame = np.hstack((frame1, frame2))\n",
    " \n",
    "    cv2.imshow('frame', frame)\n",
    "    print('111')\n",
    "    if cv2.waitKey(10) & 0xff == ord('q'):\n",
    "        break\n",
    "        \n",
    "s1.release()\n",
    "s2.release()\n",
    "s3.release()"
   ]
  },
  {
   "cell_type": "code",
   "execution_count": 6,
   "id": "82b2e68c",
   "metadata": {},
   "outputs": [
    {
     "name": "stdout",
     "output_type": "stream",
     "text": [
      "(480, 640, 3)\n",
      "921600\n",
      "uint8\n"
     ]
    }
   ],
   "source": [
    "success,frame=s1.read()\n",
    "print(frame.shape)\n",
    "print(frame.size)\n",
    "print(frame.dtype)"
   ]
  },
  {
   "cell_type": "code",
   "execution_count": 7,
   "id": "90b96140",
   "metadata": {},
   "outputs": [
    {
     "name": "stdout",
     "output_type": "stream",
     "text": [
      "(480, 480, 3)\n"
     ]
    }
   ],
   "source": [
    "frame=frame[0:480,80:560]\n",
    "print(frame.shape)"
   ]
  },
  {
   "cell_type": "code",
   "execution_count": 8,
   "id": "b66486a6",
   "metadata": {},
   "outputs": [
    {
     "ename": "AttributeError",
     "evalue": "'NoneType' object has no attribute 'shape'",
     "output_type": "error",
     "traceback": [
      "\u001b[1;31m---------------------------------------------------------------------------\u001b[0m",
      "\u001b[1;31mAttributeError\u001b[0m                            Traceback (most recent call last)",
      "\u001b[1;32mC:\\Users\\ADMINI~1\\AppData\\Local\\Temp/ipykernel_19240/1704495426.py\u001b[0m in \u001b[0;36m<module>\u001b[1;34m\u001b[0m\n\u001b[0;32m      1\u001b[0m \u001b[0msuccess\u001b[0m\u001b[1;33m,\u001b[0m\u001b[0mframe\u001b[0m\u001b[1;33m=\u001b[0m\u001b[0ms2\u001b[0m\u001b[1;33m.\u001b[0m\u001b[0mread\u001b[0m\u001b[1;33m(\u001b[0m\u001b[1;33m)\u001b[0m\u001b[1;33m\u001b[0m\u001b[1;33m\u001b[0m\u001b[0m\n\u001b[1;32m----> 2\u001b[1;33m \u001b[0mprint\u001b[0m\u001b[1;33m(\u001b[0m\u001b[0mframe\u001b[0m\u001b[1;33m.\u001b[0m\u001b[0mshape\u001b[0m\u001b[1;33m)\u001b[0m\u001b[1;33m\u001b[0m\u001b[1;33m\u001b[0m\u001b[0m\n\u001b[0m\u001b[0;32m      3\u001b[0m \u001b[0mprint\u001b[0m\u001b[1;33m(\u001b[0m\u001b[0mframe\u001b[0m\u001b[1;33m.\u001b[0m\u001b[0msize\u001b[0m\u001b[1;33m)\u001b[0m\u001b[1;33m\u001b[0m\u001b[1;33m\u001b[0m\u001b[0m\n\u001b[0;32m      4\u001b[0m \u001b[0mprint\u001b[0m\u001b[1;33m(\u001b[0m\u001b[0mframe\u001b[0m\u001b[1;33m.\u001b[0m\u001b[0mdtype\u001b[0m\u001b[1;33m)\u001b[0m\u001b[1;33m\u001b[0m\u001b[1;33m\u001b[0m\u001b[0m\n",
      "\u001b[1;31mAttributeError\u001b[0m: 'NoneType' object has no attribute 'shape'"
     ]
    }
   ],
   "source": [
    "success,frame=s2.read()\n",
    "print(frame.shape)\n",
    "print(frame.size)\n",
    "print(frame.dtype)"
   ]
  },
  {
   "cell_type": "code",
   "execution_count": null,
   "id": "b30bf8e1",
   "metadata": {},
   "outputs": [],
   "source": [
    "frame=frame[0:480,80:560]\n",
    "print(frame.shape)"
   ]
  },
  {
   "cell_type": "code",
   "execution_count": 13,
   "id": "9793ed08",
   "metadata": {},
   "outputs": [],
   "source": [
    "def cv_show(name,img):\n",
    "    cv2.imshow(name,img) \n",
    "    cv2.waitKey(0) \n",
    "    cv2.destroyAllWindows()"
   ]
  },
  {
   "cell_type": "code",
   "execution_count": 14,
   "id": "5d5068ef",
   "metadata": {},
   "outputs": [],
   "source": [
    "cv_show('frame',frame)"
   ]
  },
  {
   "cell_type": "markdown",
   "id": "7b0181b2",
   "metadata": {},
   "source": [
    "## 定时截图"
   ]
  },
  {
   "cell_type": "code",
   "execution_count": 8,
   "id": "0c23cb8e",
   "metadata": {},
   "outputs": [
    {
     "data": {
      "text/plain": [
       "True"
      ]
     },
     "execution_count": 8,
     "metadata": {},
     "output_type": "execute_result"
    }
   ],
   "source": [
    "s1 = cv2.VideoCapture(1)\n",
    "s2 = cv2.VideoCapture(2)\n",
    "s3 = cv2.VideoCapture(3)\n",
    "s1.set(3,1920)\n",
    "s2.set(3,1920)\n",
    "s3.set(3,1920)\n",
    "s1.set(4,1080)\n",
    "s2.set(4,1080)\n",
    "s3.set(4,1080)"
   ]
  },
  {
   "cell_type": "code",
   "execution_count": 9,
   "id": "ae31bd91",
   "metadata": {},
   "outputs": [],
   "source": [
    "def dingshijietu(camera,n,saveLocation):\n",
    "    index = 0\n",
    "    imgname = 0\n",
    "\n",
    "    if not os.path.exists(saveLocation):\n",
    "        os.makedirs(saveLocation)\n",
    "\n",
    "    while True:\n",
    "        index = index +1\n",
    "        ret, frame = camera.read()\n",
    "        if index == 1:   # 50ms加一次\n",
    "            cv2.imshow(\"capture2\", frame)\n",
    "            imgname = imgname + 1\n",
    "            fname = str(imgname) + '.jpg'  # fname为图像名字，将imgname作为编号命名保存的截图\n",
    "            cv2.imwrite(saveLocation+str(n)+\"_\"+fname, frame) # 截图 前面为放在桌面的路径 img为此时的图像\n",
    "            print(fname + ' saved')   # 打印保存成功\n",
    "            index = 0   # 清零\n",
    "        if imgname >= 10: # 最多截图15张\n",
    "                break\n",
    "        # 延时50ms实际相当于获取20帧的图像\n",
    "        if cv2.waitKey(50) & 0xff == ord('q'):\n",
    "            break\n",
    "\n",
    "    # 释放资源\n",
    "    camera.release()\n",
    "    cv2.destroyAllWindows()"
   ]
  },
  {
   "cell_type": "code",
   "execution_count": 10,
   "id": "0b34eb27",
   "metadata": {},
   "outputs": [
    {
     "name": "stdout",
     "output_type": "stream",
     "text": [
      "1.jpg saved\n",
      "2.jpg saved\n",
      "3.jpg saved\n",
      "4.jpg saved\n",
      "5.jpg saved\n",
      "6.jpg saved\n",
      "7.jpg saved\n",
      "8.jpg saved\n",
      "9.jpg saved\n",
      "10.jpg saved\n",
      "1.jpg saved\n",
      "2.jpg saved\n",
      "3.jpg saved\n",
      "4.jpg saved\n",
      "5.jpg saved\n",
      "6.jpg saved\n",
      "7.jpg saved\n",
      "8.jpg saved\n",
      "9.jpg saved\n",
      "10.jpg saved\n",
      "1.jpg saved\n",
      "2.jpg saved\n",
      "3.jpg saved\n",
      "4.jpg saved\n",
      "5.jpg saved\n",
      "6.jpg saved\n",
      "7.jpg saved\n",
      "8.jpg saved\n",
      "9.jpg saved\n",
      "10.jpg saved\n"
     ]
    }
   ],
   "source": [
    "saveLocation1=r'D:/imageStitching/12.17/camera1/'\n",
    "saveLocation2=r'D:/imageStitching/12.17/camera2/'\n",
    "saveLocation3=r'D:/imageStitching/12.17/camera3/'\n",
    "saveLocation=[saveLocation1,saveLocation2,saveLocation3]\n",
    "s=[s1,s2,s3]\n",
    "for index in range(3):\n",
    "    dingshijietu(s[index],index+1,saveLocation[index])"
   ]
  },
  {
   "cell_type": "markdown",
   "id": "ebc3d565",
   "metadata": {},
   "source": [
    "## glob rewrite测试"
   ]
  },
  {
   "cell_type": "code",
   "execution_count": 37,
   "id": "8345bf1b",
   "metadata": {},
   "outputs": [],
   "source": [
    "saveLocation=r'D:/imageStitching/1207/camera1/'\n",
    "Images=sorted(glob.glob(r\"D:/imageStitching/1207/camera1/*.jpg\"),key=os.path.getmtime)\n",
    "imgname = 0\n",
    "for fname in Images:\n",
    "    print(fname)\n",
    "    imgname = imgname + 1\n",
    "    img = cv2.imread(fname)\n",
    "    file_name = os.path.basename(fname)\n",
    "    cv2.imwrite(saveLocation+file_name+\"_rewrited\"+'.jpg', img)"
   ]
  },
  {
   "cell_type": "markdown",
   "id": "50048150",
   "metadata": {},
   "source": [
    "## 批量重命名"
   ]
  },
  {
   "cell_type": "code",
   "execution_count": 13,
   "id": "9f9628aa",
   "metadata": {},
   "outputs": [],
   "source": [
    "path =r\"D:/imageStitching/tobeCalibratedImages_1213/camera2/\"\n",
    "num= 1\n",
    "for file in os.listdir(path):\n",
    "    os.rename(os.path.join(path,file),os.path.join(path,\"2_\"+str(num)+\".jpg\"))\n",
    "    num+=1"
   ]
  },
  {
   "cell_type": "code",
   "execution_count": 35,
   "id": "5ffd46f7",
   "metadata": {},
   "outputs": [
    {
     "name": "stdout",
     "output_type": "stream",
     "text": [
      "1\n",
      "2\n",
      "3\n"
     ]
    }
   ],
   "source": [
    "DIM = []\n",
    "K = []\n",
    "D = []\n",
    "CAMERA_COUNT = 3  # 摄像头个数\n",
    "for index in range(1,CAMERA_COUNT+1):\n",
    "    print(index)\n",
    "    DIM.append(np.load(r\"D:/大四上/传感器/全景拼接/data/DIM\" + str(index) + \".npy\"))\n",
    "    K.append(np.load(r\"D:/大四上/传感器/全景拼接/data/K\" + str(index) + \".npy\"))\n",
    "    D.append(np.load(r\"D:/大四上/传感器/全景拼接/data/D\" + str(index) + \".npy\"))"
   ]
  },
  {
   "cell_type": "code",
   "execution_count": 36,
   "id": "312330b1",
   "metadata": {},
   "outputs": [
    {
     "name": "stdout",
     "output_type": "stream",
     "text": [
      "0\n",
      "[480 480]\n",
      "[[160.81101317   0.         242.33570829]\n",
      " [  0.         161.04777673 236.6130631 ]\n",
      " [  0.           0.           1.        ]]\n",
      "[[-0.02645596]\n",
      " [-0.0436199 ]\n",
      " [ 0.05812316]\n",
      " [-0.0234397 ]]\n",
      "1\n",
      "[480 480]\n",
      "[[159.60370542   0.         225.59037695]\n",
      " [  0.         159.9038378  232.02681161]\n",
      " [  0.           0.           1.        ]]\n",
      "[[-0.02560749]\n",
      " [-0.01602974]\n",
      " [ 0.0165772 ]\n",
      " [-0.00605274]]\n",
      "2\n",
      "[480 480]\n",
      "[[163.76812015   0.         239.09298896]\n",
      " [  0.         163.97747475 236.92056073]\n",
      " [  0.           0.           1.        ]]\n",
      "[[-0.04342591]\n",
      " [-0.00203962]\n",
      " [ 0.00455834]\n",
      " [-0.00200315]]\n"
     ]
    }
   ],
   "source": [
    "for index in range(CAMERA_COUNT):\n",
    "    print(index)\n",
    "    print(DIM[index])\n",
    "    print(K[index])\n",
    "    print(D[index])"
   ]
  },
  {
   "cell_type": "code",
   "execution_count": 4,
   "id": "d4440b6d",
   "metadata": {},
   "outputs": [
    {
     "ename": "NameError",
     "evalue": "name 'biaoding1' is not defined",
     "output_type": "error",
     "traceback": [
      "\u001b[1;31m---------------------------------------------------------------------------\u001b[0m",
      "\u001b[1;31mNameError\u001b[0m                                 Traceback (most recent call last)",
      "\u001b[1;32mC:\\Users\\ADMINI~1\\AppData\\Local\\Temp/ipykernel_2884/3008289992.py\u001b[0m in \u001b[0;36m<module>\u001b[1;34m\u001b[0m\n\u001b[0;32m      3\u001b[0m     \u001b[1;32mwhile\u001b[0m \u001b[1;32mTrue\u001b[0m\u001b[1;33m:\u001b[0m\u001b[1;33m\u001b[0m\u001b[1;33m\u001b[0m\u001b[0m\n\u001b[0;32m      4\u001b[0m         \u001b[0mret\u001b[0m\u001b[1;33m,\u001b[0m\u001b[0mframe\u001b[0m\u001b[1;33m=\u001b[0m\u001b[0ms1\u001b[0m\u001b[1;33m.\u001b[0m\u001b[0mread\u001b[0m\u001b[1;33m(\u001b[0m\u001b[1;33m)\u001b[0m\u001b[1;33m\u001b[0m\u001b[1;33m\u001b[0m\u001b[0m\n\u001b[1;32m----> 5\u001b[1;33m         \u001b[0mframe1\u001b[0m\u001b[1;33m=\u001b[0m\u001b[0mbiaoding1\u001b[0m\u001b[1;33m.\u001b[0m\u001b[0mundistort_frames\u001b[0m\u001b[1;33m(\u001b[0m\u001b[0mframe1\u001b[0m\u001b[1;33m,\u001b[0m \u001b[0mDIM\u001b[0m\u001b[1;33m[\u001b[0m\u001b[1;36m1\u001b[0m\u001b[1;33m]\u001b[0m\u001b[1;33m,\u001b[0m \u001b[0mK\u001b[0m\u001b[1;33m[\u001b[0m\u001b[1;36m1\u001b[0m\u001b[1;33m]\u001b[0m\u001b[1;33m,\u001b[0m \u001b[0mD\u001b[0m\u001b[1;33m[\u001b[0m\u001b[1;36m1\u001b[0m\u001b[1;33m]\u001b[0m\u001b[1;33m)\u001b[0m\u001b[1;33m\u001b[0m\u001b[1;33m\u001b[0m\u001b[0m\n\u001b[0m\u001b[0;32m      6\u001b[0m         \u001b[0mcv2\u001b[0m\u001b[1;33m.\u001b[0m\u001b[0mimshow\u001b[0m\u001b[1;33m(\u001b[0m\u001b[1;34m\"camera1\"\u001b[0m\u001b[1;33m,\u001b[0m \u001b[0mframe1\u001b[0m\u001b[1;33m)\u001b[0m\u001b[1;33m\u001b[0m\u001b[1;33m\u001b[0m\u001b[0m\n\u001b[0;32m      7\u001b[0m         \u001b[1;32mif\u001b[0m \u001b[0mcv2\u001b[0m\u001b[1;33m.\u001b[0m\u001b[0mwaitKey\u001b[0m\u001b[1;33m(\u001b[0m\u001b[1;36m25\u001b[0m\u001b[1;33m)\u001b[0m \u001b[1;33m&\u001b[0m \u001b[1;36m0xff\u001b[0m\u001b[1;33m==\u001b[0m\u001b[1;33m(\u001b[0m\u001b[0mord\u001b[0m\u001b[1;33m(\u001b[0m\u001b[1;34m'q'\u001b[0m\u001b[1;33m)\u001b[0m\u001b[1;33m)\u001b[0m\u001b[1;33m:\u001b[0m\u001b[1;33m\u001b[0m\u001b[1;33m\u001b[0m\u001b[0m\n",
      "\u001b[1;31mNameError\u001b[0m: name 'biaoding1' is not defined"
     ]
    }
   ],
   "source": []
  },
  {
   "cell_type": "markdown",
   "id": "5397b955",
   "metadata": {},
   "source": [
    "### 图片集去畸变"
   ]
  },
  {
   "cell_type": "code",
   "execution_count": null,
   "id": "0cf19af9",
   "metadata": {},
   "outputs": [],
   "source": []
  }
 ],
 "metadata": {
  "kernelspec": {
   "display_name": "Python 3 (ipykernel)",
   "language": "python",
   "name": "python3"
  },
  "language_info": {
   "codemirror_mode": {
    "name": "ipython",
    "version": 3
   },
   "file_extension": ".py",
   "mimetype": "text/x-python",
   "name": "python",
   "nbconvert_exporter": "python",
   "pygments_lexer": "ipython3",
   "version": "3.9.7"
  }
 },
 "nbformat": 4,
 "nbformat_minor": 5
}
